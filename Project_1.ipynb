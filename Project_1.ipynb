{
  "cells": [
    {
      "cell_type": "code",
      "source": [
        "from google.colab import drive\n",
        "drive.mount('/content/drive')"
      ],
      "metadata": {
        "id": "eJCrUsyzlGaQ",
        "colab": {
          "base_uri": "https://localhost:8080/"
        },
        "outputId": "cbafcb95-47a4-4395-a3ba-43059745c221"
      },
      "id": "eJCrUsyzlGaQ",
      "execution_count": 1,
      "outputs": [
        {
          "output_type": "stream",
          "name": "stdout",
          "text": [
            "Mounted at /content/drive\n"
          ]
        }
      ]
    },
    {
      "cell_type": "code",
      "execution_count": 2,
      "id": "a0bec2df",
      "metadata": {
        "id": "a0bec2df"
      },
      "outputs": [],
      "source": [
        "import numpy as np\n",
        "\n",
        "import pandas as pd\n",
        "\n",
        "from matplotlib import pyplot as plt\n",
        "%matplotlib inline\n",
        "from matplotlib.colors import ListedColormap\n",
        "\n",
        "import seaborn as sns"
      ]
    },
    {
      "cell_type": "code",
      "execution_count": 3,
      "id": "01f6f844",
      "metadata": {
        "id": "01f6f844"
      },
      "outputs": [],
      "source": [
        "mm = pd.read_csv(\"/content/drive/MyDrive/challenges-in-representation-learning-facial-expression-recognition-challenge/icml_face_data.csv\")\n"
      ]
    },
    {
      "cell_type": "code",
      "execution_count": 5,
      "id": "f8a52568",
      "metadata": {
        "id": "f8a52568",
        "colab": {
          "base_uri": "https://localhost:8080/",
          "height": 424
        },
        "outputId": "85ada8b9-765a-410d-a71a-4c282fbf27f9"
      },
      "outputs": [
        {
          "output_type": "execute_result",
          "data": {
            "text/plain": [
              "       emotion        Usage                                             pixels\n",
              "0            0     Training  70 80 82 72 58 58 60 63 54 58 60 48 89 115 121...\n",
              "1            0     Training  151 150 147 155 148 133 111 140 170 174 182 15...\n",
              "2            2     Training  231 212 156 164 174 138 161 173 182 200 106 38...\n",
              "3            4     Training  24 32 36 30 32 23 19 20 30 41 21 22 32 34 21 1...\n",
              "4            6     Training  4 0 0 0 0 0 0 0 0 0 0 0 3 15 23 28 48 50 58 84...\n",
              "...        ...          ...                                                ...\n",
              "35882        6  PrivateTest  50 36 17 22 23 29 33 39 34 37 37 37 39 43 48 5...\n",
              "35883        3  PrivateTest  178 174 172 173 181 188 191 194 196 199 200 20...\n",
              "35884        0  PrivateTest  17 17 16 23 28 22 19 17 25 26 20 24 31 19 27 9...\n",
              "35885        3  PrivateTest  30 28 28 29 31 30 42 68 79 81 77 67 67 71 63 6...\n",
              "35886        2  PrivateTest  19 13 14 12 13 16 21 33 50 57 71 84 97 108 122...\n",
              "\n",
              "[35887 rows x 3 columns]"
            ],
            "text/html": [
              "\n",
              "\n",
              "  <div id=\"df-bd79f442-8171-46d2-9a17-85d062c6795d\">\n",
              "    <div class=\"colab-df-container\">\n",
              "      <div>\n",
              "<style scoped>\n",
              "    .dataframe tbody tr th:only-of-type {\n",
              "        vertical-align: middle;\n",
              "    }\n",
              "\n",
              "    .dataframe tbody tr th {\n",
              "        vertical-align: top;\n",
              "    }\n",
              "\n",
              "    .dataframe thead th {\n",
              "        text-align: right;\n",
              "    }\n",
              "</style>\n",
              "<table border=\"1\" class=\"dataframe\">\n",
              "  <thead>\n",
              "    <tr style=\"text-align: right;\">\n",
              "      <th></th>\n",
              "      <th>emotion</th>\n",
              "      <th>Usage</th>\n",
              "      <th>pixels</th>\n",
              "    </tr>\n",
              "  </thead>\n",
              "  <tbody>\n",
              "    <tr>\n",
              "      <th>0</th>\n",
              "      <td>0</td>\n",
              "      <td>Training</td>\n",
              "      <td>70 80 82 72 58 58 60 63 54 58 60 48 89 115 121...</td>\n",
              "    </tr>\n",
              "    <tr>\n",
              "      <th>1</th>\n",
              "      <td>0</td>\n",
              "      <td>Training</td>\n",
              "      <td>151 150 147 155 148 133 111 140 170 174 182 15...</td>\n",
              "    </tr>\n",
              "    <tr>\n",
              "      <th>2</th>\n",
              "      <td>2</td>\n",
              "      <td>Training</td>\n",
              "      <td>231 212 156 164 174 138 161 173 182 200 106 38...</td>\n",
              "    </tr>\n",
              "    <tr>\n",
              "      <th>3</th>\n",
              "      <td>4</td>\n",
              "      <td>Training</td>\n",
              "      <td>24 32 36 30 32 23 19 20 30 41 21 22 32 34 21 1...</td>\n",
              "    </tr>\n",
              "    <tr>\n",
              "      <th>4</th>\n",
              "      <td>6</td>\n",
              "      <td>Training</td>\n",
              "      <td>4 0 0 0 0 0 0 0 0 0 0 0 3 15 23 28 48 50 58 84...</td>\n",
              "    </tr>\n",
              "    <tr>\n",
              "      <th>...</th>\n",
              "      <td>...</td>\n",
              "      <td>...</td>\n",
              "      <td>...</td>\n",
              "    </tr>\n",
              "    <tr>\n",
              "      <th>35882</th>\n",
              "      <td>6</td>\n",
              "      <td>PrivateTest</td>\n",
              "      <td>50 36 17 22 23 29 33 39 34 37 37 37 39 43 48 5...</td>\n",
              "    </tr>\n",
              "    <tr>\n",
              "      <th>35883</th>\n",
              "      <td>3</td>\n",
              "      <td>PrivateTest</td>\n",
              "      <td>178 174 172 173 181 188 191 194 196 199 200 20...</td>\n",
              "    </tr>\n",
              "    <tr>\n",
              "      <th>35884</th>\n",
              "      <td>0</td>\n",
              "      <td>PrivateTest</td>\n",
              "      <td>17 17 16 23 28 22 19 17 25 26 20 24 31 19 27 9...</td>\n",
              "    </tr>\n",
              "    <tr>\n",
              "      <th>35885</th>\n",
              "      <td>3</td>\n",
              "      <td>PrivateTest</td>\n",
              "      <td>30 28 28 29 31 30 42 68 79 81 77 67 67 71 63 6...</td>\n",
              "    </tr>\n",
              "    <tr>\n",
              "      <th>35886</th>\n",
              "      <td>2</td>\n",
              "      <td>PrivateTest</td>\n",
              "      <td>19 13 14 12 13 16 21 33 50 57 71 84 97 108 122...</td>\n",
              "    </tr>\n",
              "  </tbody>\n",
              "</table>\n",
              "<p>35887 rows × 3 columns</p>\n",
              "</div>\n",
              "      <button class=\"colab-df-convert\" onclick=\"convertToInteractive('df-bd79f442-8171-46d2-9a17-85d062c6795d')\"\n",
              "              title=\"Convert this dataframe to an interactive table.\"\n",
              "              style=\"display:none;\">\n",
              "\n",
              "  <svg xmlns=\"http://www.w3.org/2000/svg\" height=\"24px\"viewBox=\"0 0 24 24\"\n",
              "       width=\"24px\">\n",
              "    <path d=\"M0 0h24v24H0V0z\" fill=\"none\"/>\n",
              "    <path d=\"M18.56 5.44l.94 2.06.94-2.06 2.06-.94-2.06-.94-.94-2.06-.94 2.06-2.06.94zm-11 1L8.5 8.5l.94-2.06 2.06-.94-2.06-.94L8.5 2.5l-.94 2.06-2.06.94zm10 10l.94 2.06.94-2.06 2.06-.94-2.06-.94-.94-2.06-.94 2.06-2.06.94z\"/><path d=\"M17.41 7.96l-1.37-1.37c-.4-.4-.92-.59-1.43-.59-.52 0-1.04.2-1.43.59L10.3 9.45l-7.72 7.72c-.78.78-.78 2.05 0 2.83L4 21.41c.39.39.9.59 1.41.59.51 0 1.02-.2 1.41-.59l7.78-7.78 2.81-2.81c.8-.78.8-2.07 0-2.86zM5.41 20L4 18.59l7.72-7.72 1.47 1.35L5.41 20z\"/>\n",
              "  </svg>\n",
              "      </button>\n",
              "\n",
              "\n",
              "\n",
              "    <div id=\"df-e3a5f665-6459-4f9a-a303-c4fca8a20c8d\">\n",
              "      <button class=\"colab-df-quickchart\" onclick=\"quickchart('df-e3a5f665-6459-4f9a-a303-c4fca8a20c8d')\"\n",
              "              title=\"Suggest charts.\"\n",
              "              style=\"display:none;\">\n",
              "\n",
              "<svg xmlns=\"http://www.w3.org/2000/svg\" height=\"24px\"viewBox=\"0 0 24 24\"\n",
              "     width=\"24px\">\n",
              "    <g>\n",
              "        <path d=\"M19 3H5c-1.1 0-2 .9-2 2v14c0 1.1.9 2 2 2h14c1.1 0 2-.9 2-2V5c0-1.1-.9-2-2-2zM9 17H7v-7h2v7zm4 0h-2V7h2v10zm4 0h-2v-4h2v4z\"/>\n",
              "    </g>\n",
              "</svg>\n",
              "      </button>\n",
              "    </div>\n",
              "\n",
              "<style>\n",
              "  .colab-df-quickchart {\n",
              "    background-color: #E8F0FE;\n",
              "    border: none;\n",
              "    border-radius: 50%;\n",
              "    cursor: pointer;\n",
              "    display: none;\n",
              "    fill: #1967D2;\n",
              "    height: 32px;\n",
              "    padding: 0 0 0 0;\n",
              "    width: 32px;\n",
              "  }\n",
              "\n",
              "  .colab-df-quickchart:hover {\n",
              "    background-color: #E2EBFA;\n",
              "    box-shadow: 0px 1px 2px rgba(60, 64, 67, 0.3), 0px 1px 3px 1px rgba(60, 64, 67, 0.15);\n",
              "    fill: #174EA6;\n",
              "  }\n",
              "\n",
              "  [theme=dark] .colab-df-quickchart {\n",
              "    background-color: #3B4455;\n",
              "    fill: #D2E3FC;\n",
              "  }\n",
              "\n",
              "  [theme=dark] .colab-df-quickchart:hover {\n",
              "    background-color: #434B5C;\n",
              "    box-shadow: 0px 1px 3px 1px rgba(0, 0, 0, 0.15);\n",
              "    filter: drop-shadow(0px 1px 2px rgba(0, 0, 0, 0.3));\n",
              "    fill: #FFFFFF;\n",
              "  }\n",
              "</style>\n",
              "\n",
              "    <script>\n",
              "      async function quickchart(key) {\n",
              "        const containerElement = document.querySelector('#' + key);\n",
              "        const charts = await google.colab.kernel.invokeFunction(\n",
              "            'suggestCharts', [key], {});\n",
              "      }\n",
              "    </script>\n",
              "\n",
              "      <script>\n",
              "\n",
              "function displayQuickchartButton(domScope) {\n",
              "  let quickchartButtonEl =\n",
              "    domScope.querySelector('#df-e3a5f665-6459-4f9a-a303-c4fca8a20c8d button.colab-df-quickchart');\n",
              "  quickchartButtonEl.style.display =\n",
              "    google.colab.kernel.accessAllowed ? 'block' : 'none';\n",
              "}\n",
              "\n",
              "        displayQuickchartButton(document);\n",
              "      </script>\n",
              "      <style>\n",
              "    .colab-df-container {\n",
              "      display:flex;\n",
              "      flex-wrap:wrap;\n",
              "      gap: 12px;\n",
              "    }\n",
              "\n",
              "    .colab-df-convert {\n",
              "      background-color: #E8F0FE;\n",
              "      border: none;\n",
              "      border-radius: 50%;\n",
              "      cursor: pointer;\n",
              "      display: none;\n",
              "      fill: #1967D2;\n",
              "      height: 32px;\n",
              "      padding: 0 0 0 0;\n",
              "      width: 32px;\n",
              "    }\n",
              "\n",
              "    .colab-df-convert:hover {\n",
              "      background-color: #E2EBFA;\n",
              "      box-shadow: 0px 1px 2px rgba(60, 64, 67, 0.3), 0px 1px 3px 1px rgba(60, 64, 67, 0.15);\n",
              "      fill: #174EA6;\n",
              "    }\n",
              "\n",
              "    [theme=dark] .colab-df-convert {\n",
              "      background-color: #3B4455;\n",
              "      fill: #D2E3FC;\n",
              "    }\n",
              "\n",
              "    [theme=dark] .colab-df-convert:hover {\n",
              "      background-color: #434B5C;\n",
              "      box-shadow: 0px 1px 3px 1px rgba(0, 0, 0, 0.15);\n",
              "      filter: drop-shadow(0px 1px 2px rgba(0, 0, 0, 0.3));\n",
              "      fill: #FFFFFF;\n",
              "    }\n",
              "  </style>\n",
              "\n",
              "      <script>\n",
              "        const buttonEl =\n",
              "          document.querySelector('#df-bd79f442-8171-46d2-9a17-85d062c6795d button.colab-df-convert');\n",
              "        buttonEl.style.display =\n",
              "          google.colab.kernel.accessAllowed ? 'block' : 'none';\n",
              "\n",
              "        async function convertToInteractive(key) {\n",
              "          const element = document.querySelector('#df-bd79f442-8171-46d2-9a17-85d062c6795d');\n",
              "          const dataTable =\n",
              "            await google.colab.kernel.invokeFunction('convertToInteractive',\n",
              "                                                     [key], {});\n",
              "          if (!dataTable) return;\n",
              "\n",
              "          const docLinkHtml = 'Like what you see? Visit the ' +\n",
              "            '<a target=\"_blank\" href=https://colab.research.google.com/notebooks/data_table.ipynb>data table notebook</a>'\n",
              "            + ' to learn more about interactive tables.';\n",
              "          element.innerHTML = '';\n",
              "          dataTable['output_type'] = 'display_data';\n",
              "          await google.colab.output.renderOutput(dataTable, element);\n",
              "          const docLink = document.createElement('div');\n",
              "          docLink.innerHTML = docLinkHtml;\n",
              "          element.appendChild(docLink);\n",
              "        }\n",
              "      </script>\n",
              "    </div>\n",
              "  </div>\n"
            ]
          },
          "metadata": {},
          "execution_count": 5
        }
      ],
      "source": [
        "mm"
      ]
    },
    {
      "cell_type": "code",
      "execution_count": 6,
      "id": "346c3f22",
      "metadata": {
        "id": "346c3f22",
        "colab": {
          "base_uri": "https://localhost:8080/",
          "height": 467
        },
        "outputId": "0cc55153-1c35-4b2c-b167-69af37c91b38"
      },
      "outputs": [
        {
          "output_type": "execute_result",
          "data": {
            "text/plain": [
              "<Axes: xlabel='emotion', ylabel='count'>"
            ]
          },
          "metadata": {},
          "execution_count": 6
        },
        {
          "output_type": "display_data",
          "data": {
            "text/plain": [
              "<Figure size 640x480 with 1 Axes>"
            ],
            "image/png": "[encoded data removed]"
          },
          "metadata": {}
        }
      ],
      "source": [
        "sns.countplot(x='emotion', data=mm)"
      ]
    },
    {
      "cell_type": "code",
      "execution_count": 7,
      "id": "e32dbed8",
      "metadata": {
        "id": "e32dbed8",
        "colab": {
          "base_uri": "https://localhost:8080/"
        },
        "outputId": "354e5747-db85-4388-a1fc-f81c52261f9a"
      },
      "outputs": [
        {
          "output_type": "execute_result",
          "data": {
            "text/plain": [
              "3    8989\n",
              "6    6198\n",
              "4    6077\n",
              "2    5121\n",
              "0    4953\n",
              "5    4002\n",
              "1     547\n",
              "Name: emotion, dtype: int64"
            ]
          },
          "metadata": {},
          "execution_count": 7
        }
      ],
      "source": [
        "mm['emotion'].value_counts()"
      ]
    },
    {
      "cell_type": "markdown",
      "id": "6684a985",
      "metadata": {
        "id": "6684a985"
      },
      "source": [
        "where  0=Angry, 1=Disgust, 2=Fear, 3=Happy, 4=Sad, 5=Surprise, 6=Neutral and also we have only 547 image for Disgust Dataset"
      ]
    },
    {
      "cell_type": "code",
      "execution_count": 8,
      "id": "61e43237",
      "metadata": {
        "id": "61e43237",
        "colab": {
          "base_uri": "https://localhost:8080/",
          "height": 471
        },
        "outputId": "569979fe-7d70-4d11-c203-7348cade19ab"
      },
      "outputs": [
        {
          "output_type": "execute_result",
          "data": {
            "text/plain": [
              "<Axes: xlabel=' Usage', ylabel='count'>"
            ]
          },
          "metadata": {},
          "execution_count": 8
        },
        {
          "output_type": "display_data",
          "data": {
            "text/plain": [
              "<Figure size 640x480 with 1 Axes>"
            ],
            "image/png": "[encoded data removed]"
          },
          "metadata": {}
        }
      ],
      "source": [
        "sns.countplot(x=' Usage', data=mm)"
      ]
    },
    {
      "cell_type": "code",
      "execution_count": 9,
      "id": "873e77c5",
      "metadata": {
        "id": "873e77c5"
      },
      "outputs": [],
      "source": [
        "import cv2"
      ]
    },
    {
      "cell_type": "code",
      "execution_count": 13,
      "id": "a266fafd",
      "metadata": {
        "id": "a266fafd"
      },
      "outputs": [],
      "source": [
        "pixels = mm[' pixels'].tolist()\n",
        "width, height = 48, 48\n",
        "faces = []\n",
        "\n",
        "for pixel_sequence in pixels:\n",
        "  face = [int(pixel) for pixel in pixel_sequence.split(' ')]\n",
        "  face = np.asarray(face).reshape(width, height)\n",
        "  face = cv2.resize(face.astype('uint8'),(48,48))\n",
        "  faces.append(face.astype('float32'))\n",
        "\n",
        "faces = np.asarray(faces)\n",
        "faces = np.expand_dims(faces, -1)\n",
        "emotions = pd.get_dummies(mm['emotion']).to_numpy()"
      ]
    },
    {
      "cell_type": "code",
      "execution_count": 14,
      "id": "0363f608",
      "metadata": {
        "id": "0363f608",
        "colab": {
          "base_uri": "https://localhost:8080/"
        },
        "outputId": "812b5808-a7bf-4464-bf5b-4e9175910dad"
      },
      "outputs": [
        {
          "output_type": "stream",
          "name": "stdout",
          "text": [
            "-1.0 1.0\n"
          ]
        },
        {
          "output_type": "execute_result",
          "data": {
            "text/plain": [
              "numpy.ndarray"
            ]
          },
          "metadata": {},
          "execution_count": 14
        }
      ],
      "source": [
        "x = faces.astype('float32')\n",
        "x = x / 255.0\n",
        "x = x - 0.5\n",
        "x = x * 2.0\n",
        "print(x.min(),x.max())\n",
        "type(x)"
      ]
    },
    {
      "cell_type": "code",
      "execution_count": 15,
      "id": "3291660a",
      "metadata": {
        "id": "3291660a",
        "colab": {
          "base_uri": "https://localhost:8080/",
          "height": 435
        },
        "outputId": "9eb2e999-8bdf-4a5b-d356-25f723d961b8"
      },
      "outputs": [
        {
          "output_type": "display_data",
          "data": {
            "text/plain": [
              "<Figure size 640x480 with 1 Axes>"
            ],
            "image/png": "[encoded data removed]"
          },
          "metadata": {}
        }
      ],
      "source": [
        "plt.plot(x[0,0])\n",
        "plt.show()"
      ]
    },
    {
      "cell_type": "code",
      "execution_count": 16,
      "id": "bf1579bf",
      "metadata": {
        "id": "bf1579bf"
      },
      "outputs": [],
      "source": [
        "\n",
        "train_x = x[:28709]\n",
        "train_y = emotions[:28709]\n",
        "\n",
        "\n",
        "val_x = x[28709:]\n",
        "val_y = emotions[28709:]\n",
        "\n",
        "train_data = (train_x, train_y)\n",
        "val_data = (val_x, val_y)\n"
      ]
    },
    {
      "cell_type": "code",
      "execution_count": 17,
      "id": "b54e010b",
      "metadata": {
        "id": "b54e010b",
        "colab": {
          "base_uri": "https://localhost:8080/"
        },
        "outputId": "449b0c5e-eb6c-4918-e8b2-1135cc9b3317"
      },
      "outputs": [
        {
          "output_type": "stream",
          "name": "stdout",
          "text": [
            "Training Pixels (28709, 48, 48, 1)\n",
            "Training labels (28709, 7)\n",
            "Validation Pixels (7178, 48, 48, 1)\n",
            "Validation labels (7178, 7)\n"
          ]
        }
      ],
      "source": [
        "print('Training Pixels',train_x.shape)  # ==> 4 dims -  no of images , width , height , color\n",
        "print('Training labels',train_y.shape)\n",
        "\n",
        "print('Validation Pixels',val_x.shape)\n",
        "print('Validation labels',val_y.shape)"
      ]
    },
    {
      "cell_type": "code",
      "execution_count": 18,
      "id": "dbd7baf1",
      "metadata": {
        "id": "dbd7baf1"
      },
      "outputs": [],
      "source": [
        "from keras.layers import Activation, Convolution2D, Dropout, Conv2D\n",
        "from keras.layers import AveragePooling2D, BatchNormalization\n",
        "from keras.layers import GlobalAveragePooling2D\n",
        "from keras.models import Sequential\n",
        "from keras.layers import Flatten\n",
        "from keras.models import Model\n",
        "from keras.layers import Input\n",
        "from keras.layers import MaxPooling2D\n",
        "from keras.layers import SeparableConv2D\n",
        "from keras import layers\n",
        "from keras.regularizers import l2"
      ]
    },
    {
      "cell_type": "code",
      "execution_count": 19,
      "id": "d7bc781a",
      "metadata": {
        "id": "d7bc781a"
      },
      "outputs": [],
      "source": [
        "input_shape=(48, 48, 1)\n",
        "num_classes = 7"
      ]
    },
    {
      "cell_type": "code",
      "execution_count": 20,
      "id": "61c5252a",
      "metadata": {
        "id": "61c5252a"
      },
      "outputs": [],
      "source": [
        "model = Sequential()\n",
        "model.add(Convolution2D(filters=16, kernel_size=(7, 7), padding='same',\n",
        "                            name='image_array', input_shape=input_shape))\n",
        "model.add(BatchNormalization())\n",
        "model.add(Convolution2D(filters=16, kernel_size=(7, 7), padding='same'))\n",
        "model.add(BatchNormalization())\n",
        "model.add(Activation('relu'))\n",
        "model.add(AveragePooling2D(pool_size=(2, 2), padding='same'))\n",
        "model.add(Dropout(.5))\n",
        "\n",
        "model.add(Convolution2D(filters=32, kernel_size=(5, 5), padding='same'))\n",
        "model.add(BatchNormalization())\n",
        "model.add(Convolution2D(filters=32, kernel_size=(5, 5), padding='same'))\n",
        "model.add(BatchNormalization())\n",
        "model.add(Activation('relu'))\n",
        "model.add(AveragePooling2D(pool_size=(2, 2), padding='same'))\n",
        "model.add(Dropout(.5))\n",
        "\n",
        "model.add(Convolution2D(filters=64, kernel_size=(3, 3), padding='same'))\n",
        "model.add(BatchNormalization())\n",
        "model.add(Convolution2D(filters=64, kernel_size=(3, 3), padding='same'))\n",
        "model.add(BatchNormalization())\n",
        "model.add(Activation('relu'))\n",
        "model.add(AveragePooling2D(pool_size=(2, 2), padding='same'))\n",
        "model.add(Dropout(.5))\n",
        "\n",
        "model.add(Convolution2D(filters=128, kernel_size=(3, 3), padding='same'))\n",
        "model.add(BatchNormalization())\n",
        "model.add(Convolution2D(filters=128, kernel_size=(3, 3), padding='same'))\n",
        "model.add(BatchNormalization())\n",
        "model.add(Activation('relu'))\n",
        "model.add(AveragePooling2D(pool_size=(2, 2), padding='same'))\n",
        "model.add(Dropout(.5))\n",
        "\n",
        "model.add(Convolution2D(filters=256, kernel_size=(3, 3), padding='same'))\n",
        "\n",
        "\n",
        "\n",
        "model.add(BatchNormalization())\n",
        "model.add(Convolution2D(filters=num_classes, kernel_size=(3, 3), padding='same'))\n",
        "model.add(GlobalAveragePooling2D())\n",
        "model.add(Activation('softmax',name='predictions'))"
      ]
    },
    {
      "cell_type": "code",
      "execution_count": 21,
      "id": "cd86b381",
      "metadata": {
        "id": "cd86b381",
        "colab": {
          "base_uri": "https://localhost:8080/"
        },
        "outputId": "4c44c5c1-f53e-4313-f529-b2042b08580d"
      },
      "outputs": [
        {
          "output_type": "stream",
          "name": "stdout",
          "text": [
            "Model: \"sequential\"\n",
            "_________________________________________________________________\n",
            " Layer (type)                Output Shape              Param #   \n",
            "=================================================================\n",
            " image_array (Conv2D)        (None, 48, 48, 16)        800       \n",
            "                                                                 \n",
            " batch_normalization (BatchN  (None, 48, 48, 16)       64        \n",
            " ormalization)                                                   \n",
            "                                                                 \n",
            " conv2d (Conv2D)             (None, 48, 48, 16)        12560     \n",
            "                                                                 \n",
            " batch_normalization_1 (Batc  (None, 48, 48, 16)       64        \n",
            " hNormalization)                                                 \n",
            "                                                                 \n",
            " activation (Activation)     (None, 48, 48, 16)        0         \n",
            "                                                                 \n",
            " average_pooling2d (AverageP  (None, 24, 24, 16)       0         \n",
            " ooling2D)                                                       \n",
            "                                                                 \n",
            " dropout (Dropout)           (None, 24, 24, 16)        0         \n",
            "                                                                 \n",
            " conv2d_1 (Conv2D)           (None, 24, 24, 32)        12832     \n",
            "                                                                 \n",
            " batch_normalization_2 (Batc  (None, 24, 24, 32)       128       \n",
            " hNormalization)                                                 \n",
            "                                                                 \n",
            " conv2d_2 (Conv2D)           (None, 24, 24, 32)        25632     \n",
            "                                                                 \n",
            " batch_normalization_3 (Batc  (None, 24, 24, 32)       128       \n",
            " hNormalization)                                                 \n",
            "                                                                 \n",
            " activation_1 (Activation)   (None, 24, 24, 32)        0         \n",
            "                                                                 \n",
            " average_pooling2d_1 (Averag  (None, 12, 12, 32)       0         \n",
            " ePooling2D)                                                     \n",
            "                                                                 \n",
            " dropout_1 (Dropout)         (None, 12, 12, 32)        0         \n",
            "                                                                 \n",
            " conv2d_3 (Conv2D)           (None, 12, 12, 64)        18496     \n",
            "                                                                 \n",
            " batch_normalization_4 (Batc  (None, 12, 12, 64)       256       \n",
            " hNormalization)                                                 \n",
            "                                                                 \n",
            " conv2d_4 (Conv2D)           (None, 12, 12, 64)        36928     \n",
            "                                                                 \n",
            " batch_normalization_5 (Batc  (None, 12, 12, 64)       256       \n",
            " hNormalization)                                                 \n",
            "                                                                 \n",
            " activation_2 (Activation)   (None, 12, 12, 64)        0         \n",
            "                                                                 \n",
            " average_pooling2d_2 (Averag  (None, 6, 6, 64)         0         \n",
            " ePooling2D)                                                     \n",
            "                                                                 \n",
            " dropout_2 (Dropout)         (None, 6, 6, 64)          0         \n",
            "                                                                 \n",
            " conv2d_5 (Conv2D)           (None, 6, 6, 128)         73856     \n",
            "                                                                 \n",
            " batch_normalization_6 (Batc  (None, 6, 6, 128)        512       \n",
            " hNormalization)                                                 \n",
            "                                                                 \n",
            " conv2d_6 (Conv2D)           (None, 6, 6, 128)         147584    \n",
            "                                                                 \n",
            " batch_normalization_7 (Batc  (None, 6, 6, 128)        512       \n",
            " hNormalization)                                                 \n",
            "                                                                 \n",
            " activation_3 (Activation)   (None, 6, 6, 128)         0         \n",
            "                                                                 \n",
            " average_pooling2d_3 (Averag  (None, 3, 3, 128)        0         \n",
            " ePooling2D)                                                     \n",
            "                                                                 \n",
            " dropout_3 (Dropout)         (None, 3, 3, 128)         0         \n",
            "                                                                 \n",
            " conv2d_7 (Conv2D)           (None, 3, 3, 256)         295168    \n",
            "                                                                 \n",
            " batch_normalization_8 (Batc  (None, 3, 3, 256)        1024      \n",
            " hNormalization)                                                 \n",
            "                                                                 \n",
            " conv2d_8 (Conv2D)           (None, 3, 3, 7)           16135     \n",
            "                                                                 \n",
            " global_average_pooling2d (G  (None, 7)                0         \n",
            " lobalAveragePooling2D)                                          \n",
            "                                                                 \n",
            " predictions (Activation)    (None, 7)                 0         \n",
            "                                                                 \n",
            "=================================================================\n",
            "Total params: 642,935\n",
            "Trainable params: 641,463\n",
            "Non-trainable params: 1,472\n",
            "_________________________________________________________________\n"
          ]
        }
      ],
      "source": [
        "model.summary()"
      ]
    },
    {
      "cell_type": "code",
      "source": [
        "batch_size = 32\n",
        "num_epochs = 200\n",
        "verbose = 1\n",
        "num_classes = 7\n",
        "patience = 50\n",
        "base_path = 'drive/Colab Notebooks/emotion/simplecnn/'\n"
      ],
      "metadata": {
        "id": "bzQ7HuBrl69g"
      },
      "id": "bzQ7HuBrl69g",
      "execution_count": 22,
      "outputs": []
    },
    {
      "cell_type": "code",
      "source": [
        "from keras.callbacks import CSVLogger, ModelCheckpoint, EarlyStopping\n",
        "from keras.callbacks import ReduceLROnPlateau\n",
        "from keras.preprocessing.image import ImageDataGenerator"
      ],
      "metadata": {
        "id": "bhfO_8y7mEnf"
      },
      "id": "bhfO_8y7mEnf",
      "execution_count": 23,
      "outputs": []
    },
    {
      "cell_type": "code",
      "source": [
        "data_generator = ImageDataGenerator(\n",
        "                        featurewise_center=False,\n",
        "                        featurewise_std_normalization=False,\n",
        "                        rotation_range=10,\n",
        "                        width_shift_range=0.1,\n",
        "                        height_shift_range=0.1,\n",
        "                        zoom_range=.1,\n",
        "                        horizontal_flip=True)"
      ],
      "metadata": {
        "id": "iSH1MCKumuAV"
      },
      "id": "iSH1MCKumuAV",
      "execution_count": 24,
      "outputs": []
    },
    {
      "cell_type": "code",
      "source": [
        "model.compile(optimizer='adam', loss='categorical_crossentropy',\n",
        "              metrics=['accuracy'])\n",
        "model.summary()\n"
      ],
      "metadata": {
        "id": "scTZ4Bn7mw9T",
        "colab": {
          "base_uri": "https://localhost:8080/"
        },
        "outputId": "4d720604-dd96-4436-c4df-82c15e9b782e"
      },
      "id": "scTZ4Bn7mw9T",
      "execution_count": 25,
      "outputs": [
        {
          "output_type": "stream",
          "name": "stdout",
          "text": [
            "Model: \"sequential\"\n",
            "_________________________________________________________________\n",
            " Layer (type)                Output Shape              Param #   \n",
            "=================================================================\n",
            " image_array (Conv2D)        (None, 48, 48, 16)        800       \n",
            "                                                                 \n",
            " batch_normalization (BatchN  (None, 48, 48, 16)       64        \n",
            " ormalization)                                                   \n",
            "                                                                 \n",
            " conv2d (Conv2D)             (None, 48, 48, 16)        12560     \n",
            "                                                                 \n",
            " batch_normalization_1 (Batc  (None, 48, 48, 16)       64        \n",
            " hNormalization)                                                 \n",
            "                                                                 \n",
            " activation (Activation)     (None, 48, 48, 16)        0         \n",
            "                                                                 \n",
            " average_pooling2d (AverageP  (None, 24, 24, 16)       0         \n",
            " ooling2D)                                                       \n",
            "                                                                 \n",
            " dropout (Dropout)           (None, 24, 24, 16)        0         \n",
            "                                                                 \n",
            " conv2d_1 (Conv2D)           (None, 24, 24, 32)        12832     \n",
            "                                                                 \n",
            " batch_normalization_2 (Batc  (None, 24, 24, 32)       128       \n",
            " hNormalization)                                                 \n",
            "                                                                 \n",
            " conv2d_2 (Conv2D)           (None, 24, 24, 32)        25632     \n",
            "                                                                 \n",
            " batch_normalization_3 (Batc  (None, 24, 24, 32)       128       \n",
            " hNormalization)                                                 \n",
            "                                                                 \n",
            " activation_1 (Activation)   (None, 24, 24, 32)        0         \n",
            "                                                                 \n",
            " average_pooling2d_1 (Averag  (None, 12, 12, 32)       0         \n",
            " ePooling2D)                                                     \n",
            "                                                                 \n",
            " dropout_1 (Dropout)         (None, 12, 12, 32)        0         \n",
            "                                                                 \n",
            " conv2d_3 (Conv2D)           (None, 12, 12, 64)        18496     \n",
            "                                                                 \n",
            " batch_normalization_4 (Batc  (None, 12, 12, 64)       256       \n",
            " hNormalization)                                                 \n",
            "                                                                 \n",
            " conv2d_4 (Conv2D)           (None, 12, 12, 64)        36928     \n",
            "                                                                 \n",
            " batch_normalization_5 (Batc  (None, 12, 12, 64)       256       \n",
            " hNormalization)                                                 \n",
            "                                                                 \n",
            " activation_2 (Activation)   (None, 12, 12, 64)        0         \n",
            "                                                                 \n",
            " average_pooling2d_2 (Averag  (None, 6, 6, 64)         0         \n",
            " ePooling2D)                                                     \n",
            "                                                                 \n",
            " dropout_2 (Dropout)         (None, 6, 6, 64)          0         \n",
            "                                                                 \n",
            " conv2d_5 (Conv2D)           (None, 6, 6, 128)         73856     \n",
            "                                                                 \n",
            " batch_normalization_6 (Batc  (None, 6, 6, 128)        512       \n",
            " hNormalization)                                                 \n",
            "                                                                 \n",
            " conv2d_6 (Conv2D)           (None, 6, 6, 128)         147584    \n",
            "                                                                 \n",
            " batch_normalization_7 (Batc  (None, 6, 6, 128)        512       \n",
            " hNormalization)                                                 \n",
            "                                                                 \n",
            " activation_3 (Activation)   (None, 6, 6, 128)         0         \n",
            "                                                                 \n",
            " average_pooling2d_3 (Averag  (None, 3, 3, 128)        0         \n",
            " ePooling2D)                                                     \n",
            "                                                                 \n",
            " dropout_3 (Dropout)         (None, 3, 3, 128)         0         \n",
            "                                                                 \n",
            " conv2d_7 (Conv2D)           (None, 3, 3, 256)         295168    \n",
            "                                                                 \n",
            " batch_normalization_8 (Batc  (None, 3, 3, 256)        1024      \n",
            " hNormalization)                                                 \n",
            "                                                                 \n",
            " conv2d_8 (Conv2D)           (None, 3, 3, 7)           16135     \n",
            "                                                                 \n",
            " global_average_pooling2d (G  (None, 7)                0         \n",
            " lobalAveragePooling2D)                                          \n",
            "                                                                 \n",
            " predictions (Activation)    (None, 7)                 0         \n",
            "                                                                 \n",
            "=================================================================\n",
            "Total params: 642,935\n",
            "Trainable params: 641,463\n",
            "Non-trainable params: 1,472\n",
            "_________________________________________________________________\n"
          ]
        }
      ]
    },
    {
      "cell_type": "code",
      "source": [
        "\n",
        "\n",
        "datasets = ['icml_face_data']\n",
        "\n",
        "num_epochs = 40\n",
        "base_path=\"/content\"\n",
        "for dataset_name in datasets:\n",
        "    print('Training dataset:', dataset_name)\n",
        "\n",
        "    #callbacks\n",
        "    log_file_path = dataset_name + '_emotion_training.log'\n",
        "\n",
        "    csv_logger = CSVLogger(log_file_path, append=False)\n",
        "    early_stop = EarlyStopping('val_loss', patience=patience)\n",
        "    reduce_lr = ReduceLROnPlateau('val_loss', factor=0.1,patience=int(patience/4), verbose=1)\n",
        "\n",
        "    trained_models_path = base_path + dataset_name + 'simple_cnn'\n",
        "    model_names = trained_models_path + '.{epoch:02d}-{val_loss:.2f}.hdf5'\n",
        "    model_checkpoint = ModelCheckpoint(model_names, 'val_loss', verbose=1,save_best_only=True)\n",
        "    my_callbacks = [model_checkpoint, csv_logger, early_stop, reduce_lr]\n",
        "\n",
        "    train_faces, train_emotions = train_data\n",
        "    history=model.fit_generator(data_generator.flow(train_faces, train_emotions,\n",
        "                                            batch_size),\n",
        "                        epochs=num_epochs, verbose=1\n",
        "                        ,callbacks=my_callbacks,validation_data =val_data)"
      ],
      "metadata": {
        "id": "u3jAhCZjm0UP",
        "colab": {
          "base_uri": "https://localhost:8080/"
        },
        "outputId": "700a8027-eddb-4b98-a037-2b857df837ea"
      },
      "id": "u3jAhCZjm0UP",
      "execution_count": 26,
      "outputs": [
        {
          "output_type": "stream",
          "name": "stdout",
          "text": [
            "Training dataset: icml_face_data\n"
          ]
        },
        {
          "output_type": "stream",
          "name": "stderr",
          "text": [
            "<ipython-input-26-4163ca27d124>:21: UserWarning: `Model.fit_generator` is deprecated and will be removed in a future version. Please use `Model.fit`, which supports generators.\n",
            "  history=model.fit_generator(data_generator.flow(train_faces, train_emotions,\n"
          ]
        },
        {
          "output_type": "stream",
          "name": "stdout",
          "text": [
            "Epoch 1/40\n",
            "896/898 [============================>.] - ETA: 0s - loss: 1.8272 - accuracy: 0.2581\n",
            "Epoch 1: val_loss improved from inf to 1.68245, saving model to /contenticml_face_datasimple_cnn.01-1.68.hdf5\n",
            "898/898 [==============================] - 44s 30ms/step - loss: 1.8272 - accuracy: 0.2578 - val_loss: 1.6825 - val_accuracy: 0.3314 - lr: 0.0010\n",
            "Epoch 2/40\n",
            "897/898 [============================>.] - ETA: 0s - loss: 1.6592 - accuracy: 0.3451\n",
            "Epoch 2: val_loss improved from 1.68245 to 1.61749, saving model to /contenticml_face_datasimple_cnn.02-1.62.hdf5\n",
            "898/898 [==============================] - 25s 28ms/step - loss: 1.6594 - accuracy: 0.3449 - val_loss: 1.6175 - val_accuracy: 0.3838 - lr: 0.0010\n",
            "Epoch 3/40\n",
            "898/898 [==============================] - ETA: 0s - loss: 1.5754 - accuracy: 0.3808\n",
            "Epoch 3: val_loss improved from 1.61749 to 1.54709, saving model to /contenticml_face_datasimple_cnn.03-1.55.hdf5\n",
            "898/898 [==============================] - 24s 26ms/step - loss: 1.5754 - accuracy: 0.3808 - val_loss: 1.5471 - val_accuracy: 0.4295 - lr: 0.0010\n",
            "Epoch 4/40\n",
            "896/898 [============================>.] - ETA: 0s - loss: 1.5249 - accuracy: 0.4076\n",
            "Epoch 4: val_loss improved from 1.54709 to 1.42850, saving model to /contenticml_face_datasimple_cnn.04-1.43.hdf5\n",
            "898/898 [==============================] - 25s 28ms/step - loss: 1.5245 - accuracy: 0.4079 - val_loss: 1.4285 - val_accuracy: 0.4549 - lr: 0.0010\n",
            "Epoch 5/40\n",
            "898/898 [==============================] - ETA: 0s - loss: 1.4913 - accuracy: 0.4208\n",
            "Epoch 5: val_loss improved from 1.42850 to 1.33124, saving model to /contenticml_face_datasimple_cnn.05-1.33.hdf5\n",
            "898/898 [==============================] - 25s 28ms/step - loss: 1.4913 - accuracy: 0.4208 - val_loss: 1.3312 - val_accuracy: 0.4947 - lr: 0.0010\n",
            "Epoch 6/40\n",
            "897/898 [============================>.] - ETA: 0s - loss: 1.4592 - accuracy: 0.4374\n",
            "Epoch 6: val_loss did not improve from 1.33124\n",
            "898/898 [==============================] - 25s 28ms/step - loss: 1.4592 - accuracy: 0.4373 - val_loss: 1.3350 - val_accuracy: 0.4955 - lr: 0.0010\n",
            "Epoch 7/40\n",
            "896/898 [============================>.] - ETA: 0s - loss: 1.4306 - accuracy: 0.4482\n",
            "Epoch 7: val_loss did not improve from 1.33124\n",
            "898/898 [==============================] - 24s 26ms/step - loss: 1.4308 - accuracy: 0.4484 - val_loss: 1.3884 - val_accuracy: 0.4919 - lr: 0.0010\n",
            "Epoch 8/40\n",
            "897/898 [============================>.] - ETA: 0s - loss: 1.4092 - accuracy: 0.4592\n",
            "Epoch 8: val_loss improved from 1.33124 to 1.29279, saving model to /contenticml_face_datasimple_cnn.08-1.29.hdf5\n",
            "898/898 [==============================] - 25s 27ms/step - loss: 1.4090 - accuracy: 0.4593 - val_loss: 1.2928 - val_accuracy: 0.5061 - lr: 0.0010\n",
            "Epoch 9/40\n",
            "897/898 [============================>.] - ETA: 0s - loss: 1.3958 - accuracy: 0.4679\n",
            "Epoch 9: val_loss improved from 1.29279 to 1.27625, saving model to /contenticml_face_datasimple_cnn.09-1.28.hdf5\n",
            "898/898 [==============================] - 25s 28ms/step - loss: 1.3957 - accuracy: 0.4679 - val_loss: 1.2763 - val_accuracy: 0.5125 - lr: 0.0010\n",
            "Epoch 10/40\n",
            "897/898 [============================>.] - ETA: 0s - loss: 1.3799 - accuracy: 0.4673\n",
            "Epoch 10: val_loss improved from 1.27625 to 1.24313, saving model to /contenticml_face_datasimple_cnn.10-1.24.hdf5\n",
            "898/898 [==============================] - 24s 27ms/step - loss: 1.3797 - accuracy: 0.4674 - val_loss: 1.2431 - val_accuracy: 0.5304 - lr: 0.0010\n",
            "Epoch 11/40\n",
            "898/898 [==============================] - ETA: 0s - loss: 1.3667 - accuracy: 0.4733\n",
            "Epoch 11: val_loss did not improve from 1.24313\n",
            "898/898 [==============================] - 25s 28ms/step - loss: 1.3667 - accuracy: 0.4733 - val_loss: 1.2443 - val_accuracy: 0.5287 - lr: 0.0010\n",
            "Epoch 12/40\n",
            "898/898 [==============================] - ETA: 0s - loss: 1.3594 - accuracy: 0.4792\n",
            "Epoch 12: val_loss did not improve from 1.24313\n",
            "898/898 [==============================] - 25s 28ms/step - loss: 1.3594 - accuracy: 0.4792 - val_loss: 1.2716 - val_accuracy: 0.5156 - lr: 0.0010\n",
            "Epoch 13/40\n",
            "898/898 [==============================] - ETA: 0s - loss: 1.3501 - accuracy: 0.4813\n",
            "Epoch 13: val_loss did not improve from 1.24313\n",
            "898/898 [==============================] - 25s 28ms/step - loss: 1.3501 - accuracy: 0.4813 - val_loss: 1.2749 - val_accuracy: 0.5107 - lr: 0.0010\n",
            "Epoch 14/40\n",
            "896/898 [============================>.] - ETA: 0s - loss: 1.3470 - accuracy: 0.4850\n",
            "Epoch 14: val_loss improved from 1.24313 to 1.19444, saving model to /contenticml_face_datasimple_cnn.14-1.19.hdf5\n",
            "898/898 [==============================] - 25s 28ms/step - loss: 1.3468 - accuracy: 0.4850 - val_loss: 1.1944 - val_accuracy: 0.5435 - lr: 0.0010\n",
            "Epoch 15/40\n",
            "898/898 [==============================] - ETA: 0s - loss: 1.3357 - accuracy: 0.4914\n",
            "Epoch 15: val_loss improved from 1.19444 to 1.18456, saving model to /contenticml_face_datasimple_cnn.15-1.18.hdf5\n",
            "898/898 [==============================] - 25s 28ms/step - loss: 1.3357 - accuracy: 0.4914 - val_loss: 1.1846 - val_accuracy: 0.5476 - lr: 0.0010\n",
            "Epoch 16/40\n",
            "898/898 [==============================] - ETA: 0s - loss: 1.3258 - accuracy: 0.4916\n",
            "Epoch 16: val_loss did not improve from 1.18456\n",
            "898/898 [==============================] - 24s 27ms/step - loss: 1.3258 - accuracy: 0.4916 - val_loss: 1.2303 - val_accuracy: 0.5355 - lr: 0.0010\n",
            "Epoch 17/40\n",
            "898/898 [==============================] - ETA: 0s - loss: 1.3243 - accuracy: 0.4970\n",
            "Epoch 17: val_loss did not improve from 1.18456\n",
            "898/898 [==============================] - 25s 28ms/step - loss: 1.3243 - accuracy: 0.4970 - val_loss: 1.2081 - val_accuracy: 0.5444 - lr: 0.0010\n",
            "Epoch 18/40\n",
            "897/898 [============================>.] - ETA: 0s - loss: 1.3165 - accuracy: 0.4965\n",
            "Epoch 18: val_loss did not improve from 1.18456\n",
            "898/898 [==============================] - 25s 28ms/step - loss: 1.3167 - accuracy: 0.4963 - val_loss: 1.2161 - val_accuracy: 0.5337 - lr: 0.0010\n",
            "Epoch 19/40\n",
            "898/898 [==============================] - ETA: 0s - loss: 1.3153 - accuracy: 0.4959\n",
            "Epoch 19: val_loss did not improve from 1.18456\n",
            "898/898 [==============================] - 24s 27ms/step - loss: 1.3153 - accuracy: 0.4959 - val_loss: 1.1906 - val_accuracy: 0.5476 - lr: 0.0010\n",
            "Epoch 20/40\n",
            "898/898 [==============================] - ETA: 0s - loss: 1.3069 - accuracy: 0.5047\n",
            "Epoch 20: val_loss improved from 1.18456 to 1.15774, saving model to /contenticml_face_datasimple_cnn.20-1.16.hdf5\n",
            "898/898 [==============================] - 25s 28ms/step - loss: 1.3069 - accuracy: 0.5047 - val_loss: 1.1577 - val_accuracy: 0.5542 - lr: 0.0010\n",
            "Epoch 21/40\n",
            "897/898 [============================>.] - ETA: 0s - loss: 1.3003 - accuracy: 0.5043\n",
            "Epoch 21: val_loss did not improve from 1.15774\n",
            "898/898 [==============================] - 24s 26ms/step - loss: 1.3004 - accuracy: 0.5044 - val_loss: 1.1718 - val_accuracy: 0.5499 - lr: 0.0010\n",
            "Epoch 22/40\n",
            "898/898 [==============================] - ETA: 0s - loss: 1.2952 - accuracy: 0.5079\n",
            "Epoch 22: val_loss did not improve from 1.15774\n",
            "898/898 [==============================] - 25s 28ms/step - loss: 1.2952 - accuracy: 0.5079 - val_loss: 1.1611 - val_accuracy: 0.5546 - lr: 0.0010\n",
            "Epoch 23/40\n",
            "897/898 [============================>.] - ETA: 0s - loss: 1.2854 - accuracy: 0.5118\n",
            "Epoch 23: val_loss did not improve from 1.15774\n",
            "898/898 [==============================] - 25s 28ms/step - loss: 1.2854 - accuracy: 0.5117 - val_loss: 1.1945 - val_accuracy: 0.5379 - lr: 0.0010\n",
            "Epoch 24/40\n",
            "898/898 [==============================] - ETA: 0s - loss: 1.2935 - accuracy: 0.5055\n",
            "Epoch 24: val_loss improved from 1.15774 to 1.13644, saving model to /contenticml_face_datasimple_cnn.24-1.14.hdf5\n",
            "898/898 [==============================] - 25s 28ms/step - loss: 1.2935 - accuracy: 0.5055 - val_loss: 1.1364 - val_accuracy: 0.5582 - lr: 0.0010\n",
            "Epoch 25/40\n",
            "897/898 [============================>.] - ETA: 0s - loss: 1.2873 - accuracy: 0.5115\n",
            "Epoch 25: val_loss did not improve from 1.13644\n",
            "898/898 [==============================] - 25s 27ms/step - loss: 1.2873 - accuracy: 0.5115 - val_loss: 1.1475 - val_accuracy: 0.5620 - lr: 0.0010\n",
            "Epoch 26/40\n",
            "897/898 [============================>.] - ETA: 0s - loss: 1.2794 - accuracy: 0.5144\n",
            "Epoch 26: val_loss did not improve from 1.13644\n",
            "898/898 [==============================] - 23s 26ms/step - loss: 1.2792 - accuracy: 0.5144 - val_loss: 1.1562 - val_accuracy: 0.5602 - lr: 0.0010\n",
            "Epoch 27/40\n",
            "898/898 [==============================] - ETA: 0s - loss: 1.2777 - accuracy: 0.5110\n",
            "Epoch 27: val_loss improved from 1.13644 to 1.13379, saving model to /contenticml_face_datasimple_cnn.27-1.13.hdf5\n",
            "898/898 [==============================] - 26s 29ms/step - loss: 1.2777 - accuracy: 0.5110 - val_loss: 1.1338 - val_accuracy: 0.5644 - lr: 0.0010\n",
            "Epoch 28/40\n",
            "897/898 [============================>.] - ETA: 0s - loss: 1.2733 - accuracy: 0.5150\n",
            "Epoch 28: val_loss did not improve from 1.13379\n",
            "898/898 [==============================] - 26s 29ms/step - loss: 1.2732 - accuracy: 0.5149 - val_loss: 1.1385 - val_accuracy: 0.5651 - lr: 0.0010\n",
            "Epoch 29/40\n",
            "897/898 [============================>.] - ETA: 0s - loss: 1.2698 - accuracy: 0.5161\n",
            "Epoch 29: val_loss did not improve from 1.13379\n",
            "898/898 [==============================] - 25s 28ms/step - loss: 1.2699 - accuracy: 0.5160 - val_loss: 1.1460 - val_accuracy: 0.5619 - lr: 0.0010\n",
            "Epoch 30/40\n",
            "897/898 [============================>.] - ETA: 0s - loss: 1.2693 - accuracy: 0.5161\n",
            "Epoch 30: val_loss did not improve from 1.13379\n",
            "898/898 [==============================] - 24s 27ms/step - loss: 1.2694 - accuracy: 0.5160 - val_loss: 1.1374 - val_accuracy: 0.5639 - lr: 0.0010\n",
            "Epoch 31/40\n",
            "897/898 [============================>.] - ETA: 0s - loss: 1.2666 - accuracy: 0.5176\n",
            "Epoch 31: val_loss did not improve from 1.13379\n",
            "898/898 [==============================] - 25s 28ms/step - loss: 1.2665 - accuracy: 0.5177 - val_loss: 1.1357 - val_accuracy: 0.5652 - lr: 0.0010\n",
            "Epoch 32/40\n",
            "897/898 [============================>.] - ETA: 0s - loss: 1.2616 - accuracy: 0.5217\n",
            "Epoch 32: val_loss did not improve from 1.13379\n",
            "898/898 [==============================] - 26s 28ms/step - loss: 1.2616 - accuracy: 0.5217 - val_loss: 1.1423 - val_accuracy: 0.5596 - lr: 0.0010\n",
            "Epoch 33/40\n",
            "896/898 [============================>.] - ETA: 0s - loss: 1.2598 - accuracy: 0.5182\n",
            "Epoch 33: val_loss improved from 1.13379 to 1.12847, saving model to /contenticml_face_datasimple_cnn.33-1.13.hdf5\n",
            "898/898 [==============================] - 25s 28ms/step - loss: 1.2596 - accuracy: 0.5183 - val_loss: 1.1285 - val_accuracy: 0.5685 - lr: 0.0010\n",
            "Epoch 34/40\n",
            "897/898 [============================>.] - ETA: 0s - loss: 1.2555 - accuracy: 0.5185\n",
            "Epoch 34: val_loss improved from 1.12847 to 1.12427, saving model to /contenticml_face_datasimple_cnn.34-1.12.hdf5\n",
            "898/898 [==============================] - 26s 29ms/step - loss: 1.2554 - accuracy: 0.5185 - val_loss: 1.1243 - val_accuracy: 0.5656 - lr: 0.0010\n",
            "Epoch 35/40\n",
            "897/898 [============================>.] - ETA: 0s - loss: 1.2542 - accuracy: 0.5215\n",
            "Epoch 35: val_loss did not improve from 1.12427\n",
            "898/898 [==============================] - 26s 29ms/step - loss: 1.2540 - accuracy: 0.5215 - val_loss: 1.1454 - val_accuracy: 0.5652 - lr: 0.0010\n",
            "Epoch 36/40\n",
            "898/898 [==============================] - ETA: 0s - loss: 1.2480 - accuracy: 0.5244\n",
            "Epoch 36: val_loss did not improve from 1.12427\n",
            "898/898 [==============================] - 24s 26ms/step - loss: 1.2480 - accuracy: 0.5244 - val_loss: 1.1338 - val_accuracy: 0.5606 - lr: 0.0010\n",
            "Epoch 37/40\n",
            "898/898 [==============================] - ETA: 0s - loss: 1.2525 - accuracy: 0.5245\n",
            "Epoch 37: val_loss improved from 1.12427 to 1.12303, saving model to /contenticml_face_datasimple_cnn.37-1.12.hdf5\n",
            "898/898 [==============================] - 24s 27ms/step - loss: 1.2525 - accuracy: 0.5245 - val_loss: 1.1230 - val_accuracy: 0.5678 - lr: 0.0010\n",
            "Epoch 38/40\n",
            "898/898 [==============================] - ETA: 0s - loss: 1.2526 - accuracy: 0.5273\n",
            "Epoch 38: val_loss improved from 1.12303 to 1.10971, saving model to /contenticml_face_datasimple_cnn.38-1.11.hdf5\n",
            "898/898 [==============================] - 24s 26ms/step - loss: 1.2526 - accuracy: 0.5273 - val_loss: 1.1097 - val_accuracy: 0.5731 - lr: 0.0010\n",
            "Epoch 39/40\n",
            "898/898 [==============================] - ETA: 0s - loss: 1.2479 - accuracy: 0.5254\n",
            "Epoch 39: val_loss improved from 1.10971 to 1.09603, saving model to /contenticml_face_datasimple_cnn.39-1.10.hdf5\n",
            "898/898 [==============================] - 24s 27ms/step - loss: 1.2479 - accuracy: 0.5254 - val_loss: 1.0960 - val_accuracy: 0.5775 - lr: 0.0010\n",
            "Epoch 40/40\n",
            "898/898 [==============================] - ETA: 0s - loss: 1.2448 - accuracy: 0.5247\n",
            "Epoch 40: val_loss did not improve from 1.09603\n",
            "898/898 [==============================] - 25s 27ms/step - loss: 1.2448 - accuracy: 0.5247 - val_loss: 1.1175 - val_accuracy: 0.5687 - lr: 0.0010\n"
          ]
        }
      ]
    },
    {
      "cell_type": "code",
      "source": [
        "score = model.evaluate(val_x, val_y, verbose=1)\n",
        "print('Test loss:', score[0])\n",
        "print('Test accuracy:', score[1]*100)"
      ],
      "metadata": {
        "id": "Mee9J5q8nMzc",
        "colab": {
          "base_uri": "https://localhost:8080/"
        },
        "outputId": "1002dc78-837e-435b-abe6-204f4242e87e"
      },
      "id": "Mee9J5q8nMzc",
      "execution_count": 27,
      "outputs": [
        {
          "output_type": "stream",
          "name": "stdout",
          "text": [
            "225/225 [==============================] - 1s 5ms/step - loss: 1.1175 - accuracy: 0.5687\n",
            "Test loss: 1.1174803972244263\n",
            "Test accuracy: 56.8682074546814\n"
          ]
        }
      ]
    },
    {
      "cell_type": "code",
      "source": [
        "history_dict=history.history\n",
        "history_dict.keys()"
      ],
      "metadata": {
        "colab": {
          "base_uri": "https://localhost:8080/"
        },
        "id": "UGIfj0KeyOWA",
        "outputId": "88913dd4-d8a2-48dd-9aaf-503594c7a95d"
      },
      "id": "UGIfj0KeyOWA",
      "execution_count": 28,
      "outputs": [
        {
          "output_type": "execute_result",
          "data": {
            "text/plain": [
              "dict_keys(['loss', 'accuracy', 'val_loss', 'val_accuracy', 'lr'])"
            ]
          },
          "metadata": {},
          "execution_count": 28
        }
      ]
    },
    {
      "cell_type": "code",
      "source": [
        "print(history_dict[\"accuracy\"])"
      ],
      "metadata": {
        "colab": {
          "base_uri": "https://localhost:8080/"
        },
        "id": "5gqmEmA0yO1_",
        "outputId": "ea38d530-83ef-4d88-ed6e-6ba03b0f16dc"
      },
      "id": "5gqmEmA0yO1_",
      "execution_count": 29,
      "outputs": [
        {
          "output_type": "stream",
          "name": "stdout",
          "text": [
            "[0.25782856345176697, 0.34487444162368774, 0.3807865083217621, 0.4078860282897949, 0.4208087921142578, 0.4373193085193634, 0.4483611285686493, 0.45933330059051514, 0.4679368734359741, 0.46741440892219543, 0.4733010530471802, 0.47922253608703613, 0.48131248354911804, 0.48503953218460083, 0.49144867062568665, 0.49162283539772034, 0.4969870150089264, 0.49632519483566284, 0.49594202637672424, 0.5047197937965393, 0.5043714642524719, 0.5079243183135986, 0.5116513967514038, 0.5054860711097717, 0.5114772319793701, 0.5144379734992981, 0.5110244154930115, 0.5148907899856567, 0.5160402655601501, 0.5160402655601501, 0.517677366733551, 0.5216830968856812, 0.518339216709137, 0.5185481905937195, 0.5215089321136475, 0.5243651866912842, 0.5245044827461243, 0.5273259282112122, 0.5254101753234863, 0.524678647518158]\n"
          ]
        }
      ]
    },
    {
      "cell_type": "code",
      "source": [
        "import matplotlib.pyplot as plt\n",
        "\n",
        "train_loss_values = history_dict['loss']\n",
        "val_loss_values = history_dict['val_loss']\n",
        "\n",
        "epochs = range(1, len(history_dict['accuracy']) + 1)\n",
        "\n",
        "plt.plot(epochs, train_loss_values, 'bo', label='Training loss')\n",
        "plt.plot(epochs, val_loss_values, 'b', label='Validation loss')\n",
        "plt.title('Training and validation loss')\n",
        "plt.xlabel('Epochs')\n",
        "plt.ylabel('Loss')\n",
        "plt.legend()\n",
        "plt.show()"
      ],
      "metadata": {
        "colab": {
          "base_uri": "https://localhost:8080/",
          "height": 472
        },
        "id": "o-Y6x-sYySZR",
        "outputId": "8a1a6c40-089c-4ba6-ecdb-5599c480ed59"
      },
      "id": "o-Y6x-sYySZR",
      "execution_count": 30,
      "outputs": [
        {
          "output_type": "display_data",
          "data": {
            "text/plain": [
              "<Figure size 640x480 with 1 Axes>"
            ],
            "image/png": "[encoded data removed]"
          },
          "metadata": {}
        }
      ]
    },
    {
      "cell_type": "code",
      "source": [
        "train_acc = history_dict['accuracy']\n",
        "val_acc = history_dict['val_accuracy']\n",
        "plt.plot(epochs, train_acc, 'bo', label='Training acc')\n",
        "plt.plot(epochs, val_acc, 'b', label='Validation acc')\n",
        "plt.title('Training and validation accuracy')\n",
        "plt.xlabel('Epochs')\n",
        "plt.ylabel('Loss')\n",
        "plt.legend()\n",
        "plt.show()"
      ],
      "metadata": {
        "colab": {
          "base_uri": "https://localhost:8080/",
          "height": 472
        },
        "id": "flhtVJ5myWDr",
        "outputId": "b41bc216-02ea-431b-fb13-c908191620c9"
      },
      "id": "flhtVJ5myWDr",
      "execution_count": 31,
      "outputs": [
        {
          "output_type": "display_data",
          "data": {
            "text/plain": [
              "<Figure size 640x480 with 1 Axes>"
            ],
            "image/png": "[encoded data removed]"
          },
          "metadata": {}
        }
      ]
    },
    {
      "cell_type": "code",
      "source": [
        "!pip install emoji --upgrade\n",
        "import emoji\n"
      ],
      "metadata": {
        "colab": {
          "base_uri": "https://localhost:8080/"
        },
        "id": "9rSx5te1ytdw",
        "outputId": "daa9d656-7497-451f-fef1-ae31512834de"
      },
      "id": "9rSx5te1ytdw",
      "execution_count": 32,
      "outputs": [
        {
          "output_type": "stream",
          "name": "stdout",
          "text": [
            "Collecting emoji\n",
            "  Downloading emoji-2.6.0.tar.gz (356 kB)\n",
            "\u001b[?25l     \u001b[90m━━━━━━━━━━━━━━━━━━━━━━━━━━━━━━━━━━━━━━━━\u001b[0m \u001b[32m0.0/356.6 kB\u001b[0m \u001b[31m?\u001b[0m eta \u001b[36m-:--:--\u001b[0m\r\u001b[2K     \u001b[90m━━━━━━━━━━━━━━━━━━━━━━━━━━━━━━━━━━━━━━\u001b[0m \u001b[32m356.6/356.6 kB\u001b[0m \u001b[31m12.7 MB/s\u001b[0m eta \u001b[36m0:00:00\u001b[0m\n",
            "\u001b[?25h  Preparing metadata (setup.py) ... \u001b[?25l\u001b[?25hdone\n",
            "Building wheels for collected packages: emoji\n",
            "  Building wheel for emoji (setup.py) ... \u001b[?25l\u001b[?25hdone\n",
            "  Created wheel for emoji: filename=emoji-2.6.0-py2.py3-none-any.whl size=351311 sha256=fcbe8fbf74546c6cc1f324e495841d528cc953ef824e7a987ae40e7f7df762ff\n",
            "  Stored in directory: /root/.cache/pip/wheels/ea/0b/64/114bc939d0083621aa41521e21be246c888260b8aa21e6c1ad\n",
            "Successfully built emoji\n",
            "Installing collected packages: emoji\n",
            "Successfully installed emoji-2.6.0\n"
          ]
        }
      ]
    },
    {
      "cell_type": "code",
      "source": [
        "emotion_dict = {0: \"Angry\", 1: \"Disgusted\", 2: \"Fearful\", 3: \"Happy\", 4: \"Sad\", 5: \"Surprised\", 6: \"Neutral\"}\n",
        "\n",
        "emojis = { 0:\"\\U0001f620\",1:\"\\U0001f922\" ,2:\"\\U0001f628\" ,3:\"\\U0001f60A\" , 4:\"\\U0001f625\" ,5:\"\\U0001f632\",6:\"\\U0001f641\"}"
      ],
      "metadata": {
        "id": "d4QNN9wQzZXE"
      },
      "id": "d4QNN9wQzZXE",
      "execution_count": 33,
      "outputs": []
    },
    {
      "cell_type": "code",
      "source": [
        "print(emojis.values(),sep=\" \")"
      ],
      "metadata": {
        "colab": {
          "base_uri": "https://localhost:8080/"
        },
        "id": "Tas2m_vX1Jjk",
        "outputId": "94d85e19-45cf-4bdc-88bb-72a3af831504"
      },
      "id": "Tas2m_vX1Jjk",
      "execution_count": 34,
      "outputs": [
        {
          "output_type": "stream",
          "name": "stdout",
          "text": [
            "dict_values(['😠', '🤢', '😨', '😊', '😥', '😲', '🙁'])\n"
          ]
        }
      ]
    },
    {
      "cell_type": "code",
      "source": [
        "from google.colab.patches import cv2_imshow\n",
        "import cv2\n",
        "import numpy as np\n",
        "\n",
        "def _predict(path):\n",
        "  facecasc = cv2.CascadeClassifier('/content/drive/MyDrive/Facial-Emotion-Backend/image_processing_opencv.xml')\n",
        "  imagePath = '/content/drive/MyDrive/Facial-Emotion-Backend/'+path\n",
        "  image = cv2.imread(imagePath)\n",
        "  gray = cv2.cvtColor(image, cv2.COLOR_BGR2GRAY)\n",
        "  faces = facecasc.detectMultiScale(gray,scaleFactor=1.3, minNeighbors=10)\n",
        "  print(\"No of faces : \",len(faces))\n",
        "  i = 1\n",
        "  for (x, y, w, h) in faces:\n",
        "    cv2.rectangle(image, (x, y), (x+w, y+h), (0, 255, 0), 2)\n",
        "    roi_gray = gray[y:y + h, x:x + w]\n",
        "    cropped_img = np.expand_dims(np.expand_dims(cv2.resize(roi_gray, (48, 48)), -1), 0)\n",
        "    prediction = model.predict(cropped_img)\n",
        "\n",
        "    maxindex = int(np.argmax(prediction))\n",
        "    print(\"person \",i,\" : \",emotion_dict[maxindex], \"-->\",emojis[maxindex])\n",
        "    cv2.putText(image, emotion_dict[maxindex], (x+10, y-20), cv2.FONT_HERSHEY_SIMPLEX, 0.7, (255, 255, 255), 2)\n",
        "\n",
        "  cv2_imshow(image)"
      ],
      "metadata": {
        "id": "2_VR3fBo1N4N"
      },
      "id": "2_VR3fBo1N4N",
      "execution_count": 35,
      "outputs": []
    },
    {
      "cell_type": "code",
      "source": [
        "_predict('images/download.jpeg')"
      ],
      "metadata": {
        "colab": {
          "base_uri": "https://localhost:8080/",
          "height": 303
        },
        "id": "-vi7EC4w_A2j",
        "outputId": "d5d9d4da-1272-40fe-f3ec-d6bcadd252d6"
      },
      "id": "-vi7EC4w_A2j",
      "execution_count": 37,
      "outputs": [
        {
          "output_type": "stream",
          "name": "stdout",
          "text": [
            "No of faces :  1\n",
            "1/1 [==============================] - 1s 680ms/step\n",
            "person  1  :  Angry --> 😠\n"
          ]
        },
        {
          "output_type": "display_data",
          "data": {
            "text/plain": [
              "<PIL.Image.Image image mode=RGB size=217x232 at 0x7B938C388A60>"
            ],
            "image/png": "[encoded data removed]"
          },
          "metadata": {}
        }
      ]
    },
    {
      "cell_type": "code",
      "source": [
        "_predict('images/images (4).jpeg')"
      ],
      "metadata": {
        "colab": {
          "base_uri": "https://localhost:8080/",
          "height": 265
        },
        "id": "DRL7_41a1b1b",
        "outputId": "d551b70a-a10c-4b8b-b713-ac0092a4090d"
      },
      "id": "DRL7_41a1b1b",
      "execution_count": 38,
      "outputs": [
        {
          "output_type": "stream",
          "name": "stdout",
          "text": [
            "No of faces :  1\n",
            "1/1 [==============================] - 0s 23ms/step\n",
            "person  1  :  Fearful --> 😨\n"
          ]
        },
        {
          "output_type": "display_data",
          "data": {
            "text/plain": [
              "<PIL.Image.Image image mode=RGB size=259x194 at 0x7B930C39C0D0>"
            ],
            "image/png": "[encoded data removed]"
          },
          "metadata": {}
        }
      ]
    },
    {
      "cell_type": "code",
      "source": [
        "model.save_weights(\"model_weights.h5\")"
      ],
      "metadata": {
        "id": "ejTMYOk21ciA"
      },
      "id": "ejTMYOk21ciA",
      "execution_count": 39,
      "outputs": []
    },
    {
      "cell_type": "code",
      "source": [
        "model.load_weights(\"model_weights.h5\")"
      ],
      "metadata": {
        "id": "19c1-z0A7se1"
      },
      "id": "19c1-z0A7se1",
      "execution_count": 40,
      "outputs": []
    },
    {
      "cell_type": "code",
      "source": [
        "from keras.models import model_from_json"
      ],
      "metadata": {
        "id": "e3Ue87He844_"
      },
      "id": "e3Ue87He844_",
      "execution_count": 41,
      "outputs": []
    },
    {
      "cell_type": "code",
      "source": [
        "model_json = model.to_json()\n",
        "with open(\"model_save.json\", \"w\") as json_file:\n",
        "    json_file.write(model_json)\n",
        "# serialize weights to HDF5\n",
        "#model.save_weights(\"model.h5\")\n",
        "print(\"Saved model to disk\")\n",
        "\n",
        "# later...\n",
        "\n",
        "# load json and create model\n",
        "json_file = open('model_save.json', 'r')\n",
        "loaded_model_json = json_file.read()\n",
        "json_file.close()\n",
        "model = model_from_json(loaded_model_json)\n",
        "\n",
        "model.load_weights(\"model_weights.h5\")\n"
      ],
      "metadata": {
        "id": "oL5Up11Z7_aU",
        "colab": {
          "base_uri": "https://localhost:8080/"
        },
        "outputId": "43ceea9d-ff33-40d3-cbc8-08efca9f7db8"
      },
      "id": "oL5Up11Z7_aU",
      "execution_count": 42,
      "outputs": [
        {
          "output_type": "stream",
          "name": "stdout",
          "text": [
            "Saved model to disk\n"
          ]
        }
      ]
    },
    {
      "cell_type": "code",
      "source": [
        "from google.colab import files\n",
        "files.download(\"model_weights.h5\")\n",
        "files.download(\"model_save.json\")"
      ],
      "metadata": {
        "id": "LNsjfuiY7_uh",
        "colab": {
          "base_uri": "https://localhost:8080/",
          "height": 17
        },
        "outputId": "b0c3ec5f-721a-4835-d52e-a2d169ec886c"
      },
      "id": "LNsjfuiY7_uh",
      "execution_count": 43,
      "outputs": [
        {
          "output_type": "display_data",
          "data": {
            "text/plain": [
              "<IPython.core.display.Javascript object>"
            ],
            "application/javascript": [
              "\n",
              "    async function download(id, filename, size) {\n",
              "      if (!google.colab.kernel.accessAllowed) {\n",
              "        return;\n",
              "      }\n",
              "      const div = document.createElement('div');\n",
              "      const label = document.createElement('label');\n",
              "      label.textContent = `Downloading \"${filename}\": `;\n",
              "      div.appendChild(label);\n",
              "      const progress = document.createElement('progress');\n",
              "      progress.max = size;\n",
              "      div.appendChild(progress);\n",
              "      document.body.appendChild(div);\n",
              "\n",
              "      const buffers = [];\n",
              "      let downloaded = 0;\n",
              "\n",
              "      const channel = await google.colab.kernel.comms.open(id);\n",
              "      // Send a message to notify the kernel that we're ready.\n",
              "      channel.send({})\n",
              "\n",
              "      for await (const message of channel.messages) {\n",
              "        // Send a message to notify the kernel that we're ready.\n",
              "        channel.send({})\n",
              "        if (message.buffers) {\n",
              "          for (const buffer of message.buffers) {\n",
              "            buffers.push(buffer);\n",
              "            downloaded += buffer.byteLength;\n",
              "            progress.value = downloaded;\n",
              "          }\n",
              "        }\n",
              "      }\n",
              "      const blob = new Blob(buffers, {type: 'application/binary'});\n",
              "      const a = document.createElement('a');\n",
              "      a.href = window.URL.createObjectURL(blob);\n",
              "      a.download = filename;\n",
              "      div.appendChild(a);\n",
              "      a.click();\n",
              "      div.remove();\n",
              "    }\n",
              "  "
            ]
          },
          "metadata": {}
        },
        {
          "output_type": "display_data",
          "data": {
            "text/plain": [
              "<IPython.core.display.Javascript object>"
            ],
            "application/javascript": [
              "download(\"download_d11e7ef9-4ced-4092-889b-7395b5b05ec3\", \"model_weights.h5\", 2651952)"
            ]
          },
          "metadata": {}
        },
        {
          "output_type": "display_data",
          "data": {
            "text/plain": [
              "<IPython.core.display.Javascript object>"
            ],
            "application/javascript": [
              "\n",
              "    async function download(id, filename, size) {\n",
              "      if (!google.colab.kernel.accessAllowed) {\n",
              "        return;\n",
              "      }\n",
              "      const div = document.createElement('div');\n",
              "      const label = document.createElement('label');\n",
              "      label.textContent = `Downloading \"${filename}\": `;\n",
              "      div.appendChild(label);\n",
              "      const progress = document.createElement('progress');\n",
              "      progress.max = size;\n",
              "      div.appendChild(progress);\n",
              "      document.body.appendChild(div);\n",
              "\n",
              "      const buffers = [];\n",
              "      let downloaded = 0;\n",
              "\n",
              "      const channel = await google.colab.kernel.comms.open(id);\n",
              "      // Send a message to notify the kernel that we're ready.\n",
              "      channel.send({})\n",
              "\n",
              "      for await (const message of channel.messages) {\n",
              "        // Send a message to notify the kernel that we're ready.\n",
              "        channel.send({})\n",
              "        if (message.buffers) {\n",
              "          for (const buffer of message.buffers) {\n",
              "            buffers.push(buffer);\n",
              "            downloaded += buffer.byteLength;\n",
              "            progress.value = downloaded;\n",
              "          }\n",
              "        }\n",
              "      }\n",
              "      const blob = new Blob(buffers, {type: 'application/binary'});\n",
              "      const a = document.createElement('a');\n",
              "      a.href = window.URL.createObjectURL(blob);\n",
              "      a.download = filename;\n",
              "      div.appendChild(a);\n",
              "      a.click();\n",
              "      div.remove();\n",
              "    }\n",
              "  "
            ]
          },
          "metadata": {}
        },
        {
          "output_type": "display_data",
          "data": {
            "text/plain": [
              "<IPython.core.display.Javascript object>"
            ],
            "application/javascript": [
              "download(\"download_cd0eed57-694f-4aa4-b40a-33a32b29e44f\", \"model_save.json\", 13208)"
            ]
          },
          "metadata": {}
        }
      ]
    },
    {
      "cell_type": "code",
      "source": [],
      "metadata": {
        "id": "fhKKcERG3-FR"
      },
      "id": "fhKKcERG3-FR",
      "execution_count": null,
      "outputs": []
    }
  ],
  "metadata": {
    "kernelspec": {
      "display_name": "Python 3",
      "name": "python3"
    },
    "language_info": {
      "codemirror_mode": {
        "name": "ipython",
        "version": 3
      },
      "file_extension": ".py",
      "mimetype": "text/x-python",
      "name": "python",
      "nbconvert_exporter": "python",
      "pygments_lexer": "ipython3",
      "version": "3.9.12"
    },
    "colab": {
      "provenance": [],
      "gpuType": "T4"
    },
    "accelerator": "GPU"
  },
  "nbformat": 4,
  "nbformat_minor": 5
}